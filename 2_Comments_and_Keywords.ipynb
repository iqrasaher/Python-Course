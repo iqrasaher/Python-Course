{
  "nbformat": 4,
  "nbformat_minor": 0,
  "metadata": {
    "colab": {
      "provenance": []
    },
    "kernelspec": {
      "name": "python3",
      "display_name": "Python 3"
    },
    "language_info": {
      "name": "python"
    }
  },
  "cells": [
    {
      "cell_type": "markdown",
      "source": [
        "### Comments\n",
        "Comments are lines in your code that are not executed by Python. They are used to explain the code and make it more readable.\n",
        "\n",
        "🎯 Why Use Comments?\n",
        "* Explain what the code does\n",
        "\n",
        "* Help others understand your code\n",
        "\n",
        "* Make debugging easier\n",
        "\n",
        "* Temporarily disable code"
      ],
      "metadata": {
        "id": "iXMgI1Y4HRhF"
      }
    },
    {
      "cell_type": "markdown",
      "source": [
        "### 1.Single Line Comment"
      ],
      "metadata": {
        "id": "pJaDzl4fIKCg"
      }
    },
    {
      "cell_type": "code",
      "source": [
        "# The most common way is to use the # symbol at the beginning of each line\n",
        "print(\"Hello World\")\n"
      ],
      "metadata": {
        "colab": {
          "base_uri": "https://localhost:8080/"
        },
        "id": "8k9JE8dnHUdm",
        "outputId": "07e8c5fc-79c8-43da-b50d-be38f9557b7e"
      },
      "execution_count": 8,
      "outputs": [
        {
          "output_type": "stream",
          "name": "stdout",
          "text": [
            "Hello World\n"
          ]
        }
      ]
    },
    {
      "cell_type": "markdown",
      "source": [
        "### 2.Multi Line Comment"
      ],
      "metadata": {
        "id": "JVgySCgTICCG"
      }
    },
    {
      "cell_type": "code",
      "source": [
        "'''\n",
        "This is a multi-line comment\n",
        "written using triple single quotes.\n",
        "Python will ignore this as long as it's not assigned to a variable.\n",
        "'''\n",
        "print(\"Hello World\")"
      ],
      "metadata": {
        "colab": {
          "base_uri": "https://localhost:8080/"
        },
        "id": "OSamaRvqHveg",
        "outputId": "1910dd8a-8c3b-4a85-a431-faed84174e4b"
      },
      "execution_count": 9,
      "outputs": [
        {
          "output_type": "stream",
          "name": "stdout",
          "text": [
            "Hello World\n"
          ]
        }
      ]
    },
    {
      "cell_type": "code",
      "source": [
        "\"\"\"\n",
        "This also works using triple double quotes.\n",
        "Used for multi-line notes or documentation.\n",
        "\"\"\"\n",
        "print(\"Hello World\")"
      ],
      "metadata": {
        "colab": {
          "base_uri": "https://localhost:8080/"
        },
        "id": "9VeXJ_6wIG97",
        "outputId": "f86d227f-4988-421e-ffe0-0ddb7a34fe16"
      },
      "execution_count": 10,
      "outputs": [
        {
          "output_type": "stream",
          "name": "stdout",
          "text": [
            "Hello World\n"
          ]
        }
      ]
    },
    {
      "cell_type": "markdown",
      "source": [
        "### 2.Keywords"
      ],
      "metadata": {
        "id": "nav6ReZfJf5C"
      }
    },
    {
      "cell_type": "markdown",
      "source": [
        "Keywords are reserved words in Python.\n",
        "They have special meaning and cannot be used as variable names, function names, or identifiers.\n",
        "\n",
        "📌 Python uses these words to define its syntax and structure (like if, for, while, def, etc.)"
      ],
      "metadata": {
        "id": "i-xN5jY7JyvB"
      }
    },
    {
      "cell_type": "code",
      "source": [
        "\"\"\"\n",
        "if is a keyword & print is a built-in function (not a keyword)\n",
        "\"\"\"\n",
        "age=22\n",
        "if age > 18:\n",
        "    print(\"You are an adult\")\n"
      ],
      "metadata": {
        "colab": {
          "base_uri": "https://localhost:8080/"
        },
        "id": "U5B_VUfNJ08T",
        "outputId": "8876aec3-eebd-49f4-982d-fdf17f30659d"
      },
      "execution_count": 13,
      "outputs": [
        {
          "output_type": "stream",
          "name": "stdout",
          "text": [
            "You are an adult\n"
          ]
        }
      ]
    },
    {
      "cell_type": "markdown",
      "source": [
        "###  📋 How to See All Python Keywords"
      ],
      "metadata": {
        "id": "wsDh1sczKNoL"
      }
    },
    {
      "cell_type": "code",
      "source": [
        "import keyword\n",
        "print(keyword.kwlist)"
      ],
      "metadata": {
        "colab": {
          "base_uri": "https://localhost:8080/"
        },
        "id": "Py7X179TKR_C",
        "outputId": "44fdb09f-6bd8-460d-8630-5a3342679019"
      },
      "execution_count": 14,
      "outputs": [
        {
          "output_type": "stream",
          "name": "stdout",
          "text": [
            "['False', 'None', 'True', 'and', 'as', 'assert', 'async', 'await', 'break', 'class', 'continue', 'def', 'del', 'elif', 'else', 'except', 'finally', 'for', 'from', 'global', 'if', 'import', 'in', 'is', 'lambda', 'nonlocal', 'not', 'or', 'pass', 'raise', 'return', 'try', 'while', 'with', 'yield']\n"
          ]
        }
      ]
    },
    {
      "cell_type": "markdown",
      "source": [
        "🚫 Cannot Use Keywords as Identifiers"
      ],
      "metadata": {
        "id": "5PSUkQHGKPYr"
      }
    },
    {
      "cell_type": "code",
      "source": [
        "def = \"value\"    # ❌ Error: 'def' is a keyword\n",
        "class = \"Math\"   # ❌ Error: 'class' is a keyword\n"
      ],
      "metadata": {
        "colab": {
          "base_uri": "https://localhost:8080/",
          "height": 106
        },
        "id": "2jViu6AWKezL",
        "outputId": "0a86b528-fdad-4b26-86ec-592fb44d3cbe"
      },
      "execution_count": 15,
      "outputs": [
        {
          "output_type": "error",
          "ename": "SyntaxError",
          "evalue": "invalid syntax (ipython-input-15-1200435383.py, line 1)",
          "traceback": [
            "\u001b[0;36m  File \u001b[0;32m\"/tmp/ipython-input-15-1200435383.py\"\u001b[0;36m, line \u001b[0;32m1\u001b[0m\n\u001b[0;31m    def = \"value\"    # ❌ Error: 'def' is a keyword\u001b[0m\n\u001b[0m        ^\u001b[0m\n\u001b[0;31mSyntaxError\u001b[0m\u001b[0;31m:\u001b[0m invalid syntax\n"
          ]
        }
      ]
    },
    {
      "cell_type": "markdown",
      "source": [
        "<center>\n",
        "  <h2 style=\"color:#2E86C1;\">🌟 Common Python Keywords 🌟</h2>\n",
        "  <table border=\"1\" cellpadding=\"10\" style=\"width:90%; border-collapse: collapse; text-align: center;\">\n",
        "    <tr style=\"background-color: #5DADE2;\">\n",
        "      <th style=\"color:white; font-size: 20px;\">🔑 Keyword</th>\n",
        "      <th style=\"color:white; font-size: 20px;\">📘 Use Case</th>\n",
        "    </tr>\n",
        "    <tr>\n",
        "      <td style=\"background-color:#D6EAF8; font-size: 18px;\">if, else, elif</td>\n",
        "      <td style=\"background-color:#FCF3CF; font-size: 18px;\">Conditions</td>\n",
        "    </tr>\n",
        "    <tr>\n",
        "      <td style=\"background-color:#D6EAF8; font-size: 18px;\">for, while, break, continue</td>\n",
        "      <td style=\"background-color:#FCF3CF; font-size: 18px;\">Loops</td>\n",
        "    </tr>\n",
        "    <tr>\n",
        "      <td style=\"background-color:#D6EAF8; font-size: 18px;\">def, return</td>\n",
        "      <td style=\"background-color:#FCF3CF; font-size: 18px;\">Functions</td>\n",
        "    </tr>\n",
        "    <tr>\n",
        "      <td style=\"background-color:#D6EAF8; font-size: 18px;\">class</td>\n",
        "      <td style=\"background-color:#FCF3CF; font-size: 18px;\">Classes (OOP)</td>\n",
        "    </tr>\n",
        "    <tr>\n",
        "      <td style=\"background-color:#D6EAF8; font-size: 18px;\">try, except, finally</td>\n",
        "      <td style=\"background-color:#FCF3CF; font-size: 18px;\">Error Handling</td>\n",
        "    </tr>\n",
        "    <tr>\n",
        "      <td style=\"background-color:#D6EAF8; font-size: 18px;\">True, False, None</td>\n",
        "      <td style=\"background-color:#FCF3CF; font-size: 18px;\">Constants</td>\n",
        "    </tr>\n",
        "    <tr>\n",
        "      <td style=\"background-color:#D6EAF8; font-size: 18px;\">import, from, as</td>\n",
        "      <td style=\"background-color:#FCF3CF; font-size: 18px;\">Modules</td>\n",
        "    </tr>\n",
        "    <tr>\n",
        "      <td style=\"background-color:#D6EAF8; font-size: 18px;\">and, or, not, in, is</td>\n",
        "      <td style=\"background-color:#FCF3CF; font-size: 18px;\">Logical Operations</td>\n",
        "    </tr>\n",
        "  </table>\n",
        "</center>\n",
        "\n",
        "\n",
        "\n"
      ],
      "metadata": {
        "id": "TuK4XTpAL9Mu"
      }
    }
  ]
}