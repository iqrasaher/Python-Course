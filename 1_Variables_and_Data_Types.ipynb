{
  "nbformat": 4,
  "nbformat_minor": 0,
  "metadata": {
    "colab": {
      "provenance": []
    },
    "kernelspec": {
      "name": "python3",
      "display_name": "Python 3"
    },
    "language_info": {
      "name": "python"
    }
  },
  "cells": [
    {
      "cell_type": "markdown",
      "source": [
        "# Python Full Course for Beginners"
      ],
      "metadata": {
        "id": "ERtus4mwwQ76"
      }
    },
    {
      "cell_type": "markdown",
      "source": [
        "Why Learn Python?\n",
        "1. Beginner Friendly – Perfect as a first programming language.\n",
        "2. High Demand – Python developers are in demand in tech companies.\n",
        "3. Versatile – You can build websites, analyze data, automate tasks, and more.\n",
        "4. Career Opportunities – Used in AI, finance, cybersecurity, and more.\n",
        "\n"
      ],
      "metadata": {
        "id": "eqhY2HnHy173"
      }
    },
    {
      "cell_type": "markdown",
      "source": [
        "\n",
        "Python is a high-level, interpreted programming language that is known for its simplicity, readability, and versatility. It is widely used by beginners and professionals alike in areas such as:\n",
        "\n",
        "* Web development (e.g., using Django, Flask)\n",
        "\n",
        "* Data science & machine learning (e.g., using Pandas, NumPy, scikit-learn)\n",
        "\n",
        "* Automation & scripting\n",
        "\n",
        "* Game development\n",
        "\n",
        "* Cybersecurity\n",
        "\n",
        "* Mobile and desktop applications"
      ],
      "metadata": {
        "id": "qjoATux2yj1V"
      }
    },
    {
      "cell_type": "markdown",
      "source": [],
      "metadata": {
        "id": "pldkQWfKyv45"
      }
    },
    {
      "cell_type": "markdown",
      "source": [],
      "metadata": {
        "id": "FqVOKPglzX0j"
      }
    },
    {
      "cell_type": "markdown",
      "source": [
        "### Print Statements"
      ],
      "metadata": {
        "id": "IrQy3z2n0616"
      }
    },
    {
      "cell_type": "code",
      "execution_count": 1,
      "metadata": {
        "colab": {
          "base_uri": "https://localhost:8080/"
        },
        "id": "mkz6qJ-8wM8q",
        "outputId": "3ed9acaf-7757-4a8d-d61b-3959aad3e6e0"
      },
      "outputs": [
        {
          "output_type": "stream",
          "name": "stdout",
          "text": [
            "Hello\n"
          ]
        }
      ],
      "source": [
        "print(\"Hello\")"
      ]
    },
    {
      "cell_type": "code",
      "source": [
        "print(100)"
      ],
      "metadata": {
        "colab": {
          "base_uri": "https://localhost:8080/"
        },
        "id": "A6mmrn_X1McW",
        "outputId": "12b23aa1-ff03-468c-8128-7b9ecc825a48"
      },
      "execution_count": 2,
      "outputs": [
        {
          "output_type": "stream",
          "name": "stdout",
          "text": [
            "100\n"
          ]
        }
      ]
    },
    {
      "cell_type": "code",
      "source": [
        "print(25+75)"
      ],
      "metadata": {
        "colab": {
          "base_uri": "https://localhost:8080/"
        },
        "id": "LtxtP4J_1Vl4",
        "outputId": "86378a82-0b97-4cea-8b0c-ea85a68b4f57"
      },
      "execution_count": 3,
      "outputs": [
        {
          "output_type": "stream",
          "name": "stdout",
          "text": [
            "100\n"
          ]
        }
      ]
    },
    {
      "cell_type": "markdown",
      "source": [
        "## 📦 Variable\n",
        "#### A variable is a container that holds a value in memory.\n"
      ],
      "metadata": {
        "id": "3b0X63F81kf3"
      }
    },
    {
      "cell_type": "code",
      "source": [
        "# This is a simple Python program that uses variables\n",
        "# Declaring variables\n",
        "name=\"Ali\"\n",
        "age=18\n",
        "# Printing variables\n",
        "print(\"My name is\",name,\"and my age is\",age)"
      ],
      "metadata": {
        "colab": {
          "base_uri": "https://localhost:8080/"
        },
        "id": "u3B_g9Tx1pNw",
        "outputId": "8b13505a-b89b-4804-a0f5-f79b1fe3d3ac"
      },
      "execution_count": 6,
      "outputs": [
        {
          "output_type": "stream",
          "name": "stdout",
          "text": [
            "My name is Ali and my age is 18\n"
          ]
        }
      ]
    },
    {
      "cell_type": "markdown",
      "source": [
        "### What is an Identifier in Python?"
      ],
      "metadata": {
        "id": "LD2inl_I4qFw"
      }
    },
    {
      "cell_type": "markdown",
      "source": [
        "An identifier is the name used to identify a variable, function, class, module, or object in Python.\n",
        "Examples of identifiers:\n",
        "* age = 25\n",
        "* student_name = \"Ali\"\n",
        "* totalAmount = 100.50\n"
      ],
      "metadata": {
        "id": "2VOwAQva4tyQ"
      }
    },
    {
      "cell_type": "markdown",
      "source": [
        "### Rules for Writing Identifiers in Python"
      ],
      "metadata": {
        "id": "K71yEJpH5HNP"
      }
    },
    {
      "cell_type": "markdown",
      "source": [
        "1. Can only contain letters (A-Z, a-z), digits (0-9), and underscores (_)\n",
        "  valid_name = \"Yes\"\n",
        "  name123 = \"Valid\"\n",
        "  _myVar = \"Also valid\"\n",
        " 2. Cannot start with a digit\n",
        "  123name = \"Invalid\"   # ❌ Not allowed\n",
        "  name123 = \"Valid\"     # ✅ Allowed\n",
        " 3. Cannot use special characters (!, @, #, $, %, etc.)\n",
        "  name@ = \"Invalid\"     # ❌ Error\n",
        "  first-name = \"Error\"  # ❌ Hyphen not allowed\n",
        "4. Cannot be a Python keyword\n",
        "  for = 5\n",
        "5. Identifiers are case-sensitive\n",
        "  Name = \"Alice\"\n",
        "  name = \"Bob\"\n",
        "  print(Name)  # Alice\n",
        "  print(name)  # Bob\n",
        "  **Name and name are treated as different identifiers.**"
      ],
      "metadata": {
        "id": "oyENYvcl5ISU"
      }
    },
    {
      "cell_type": "code",
      "source": [
        "#age is an identifier and It's used to name the variable that stores the value 25.\n",
        "age = 25\n"
      ],
      "metadata": {
        "id": "vVTJdLCq4-ET"
      },
      "execution_count": 10,
      "outputs": []
    },
    {
      "cell_type": "code",
      "source": [
        "# Variable declaration using valid identifiers\n",
        "name = \"Ali\"\n",
        "age = 22\n",
        "country = \"Pakistan\"\n",
        "\n",
        "# Displaying values\n",
        "print(\"Name:\", name)\n",
        "print(\"Age:\", age)\n",
        "print(\"Country:\", country)\n"
      ],
      "metadata": {
        "colab": {
          "base_uri": "https://localhost:8080/"
        },
        "id": "T7isAnl-8P6L",
        "outputId": "69609f48-c262-4c88-adab-a55a962726c0"
      },
      "execution_count": 11,
      "outputs": [
        {
          "output_type": "stream",
          "name": "stdout",
          "text": [
            "Name: Ali\n",
            "Age: 22\n",
            "Country: Pakistan\n"
          ]
        }
      ]
    },
    {
      "cell_type": "markdown",
      "source": [
        "### 2. Data Types in Python"
      ],
      "metadata": {
        "id": "F9FQ3IRg7nbp"
      }
    },
    {
      "cell_type": "markdown",
      "source": [
        "A data type tells Python what kind of value is stored in a variable.\n",
        "Each value in Python has a specific data type, like a number, text, or list."
      ],
      "metadata": {
        "id": "6okSpk178zeP"
      }
    },
    {
      "cell_type": "markdown",
      "source": [
        "### How to Check the Data Type?\n",
        "    x = 5\n",
        "    print(type(x))  # Output: <class 'int'>\n"
      ],
      "metadata": {
        "id": "jkJEWZ0i9-8p"
      }
    },
    {
      "cell_type": "markdown",
      "source": [
        "### Basic/Primary Data Types"
      ],
      "metadata": {
        "id": "glvDSzT7_huA"
      }
    },
    {
      "cell_type": "code",
      "source": [
        "# Integer Data Type\n",
        "age = 22\n",
        "print(\"Age:\", age)\n",
        "print(\"Type of age:\", type(age))  # <class 'int'>\n"
      ],
      "metadata": {
        "colab": {
          "base_uri": "https://localhost:8080/"
        },
        "id": "zGtdBeRe9gnV",
        "outputId": "5fb6c65c-e7ac-447d-8d22-4618b0d59cec"
      },
      "execution_count": 16,
      "outputs": [
        {
          "output_type": "stream",
          "name": "stdout",
          "text": [
            "Age: 22\n",
            "Type of age: <class 'int'>\n"
          ]
        }
      ]
    },
    {
      "cell_type": "code",
      "source": [
        "# String Data Type\n",
        "name1= \"ali\"\n",
        "name2='ali'\n",
        "name3=\"\"\"ali\"\"\"\n",
        "print(name1,name2,name3)\n",
        "print(\"Type of name 1\",type(name1))\n",
        "print(\"Type of name 2\",type(name2))\n",
        "print(\"Type of name 3\",type(name3))\n"
      ],
      "metadata": {
        "colab": {
          "base_uri": "https://localhost:8080/"
        },
        "id": "0sAettSi86rx",
        "outputId": "9262d26a-db41-4b30-a77f-189bc5214b72"
      },
      "execution_count": 19,
      "outputs": [
        {
          "output_type": "stream",
          "name": "stdout",
          "text": [
            "ali ali ali\n",
            "Type of name 1 <class 'str'>\n",
            "Type of name 2 <class 'str'>\n",
            "Type of name 3 <class 'str'>\n"
          ]
        }
      ]
    },
    {
      "cell_type": "code",
      "source": [
        "# Float Data Type\n",
        "pi = 3.14\n",
        "print(type(pi))  # Output: <class 'float'>\n"
      ],
      "metadata": {
        "colab": {
          "base_uri": "https://localhost:8080/"
        },
        "id": "XRd5_sc4-L4y",
        "outputId": "96c12b88-b007-4552-85ec-bb4c6f04ddb9"
      },
      "execution_count": 20,
      "outputs": [
        {
          "output_type": "stream",
          "name": "stdout",
          "text": [
            "<class 'float'>\n"
          ]
        }
      ]
    },
    {
      "cell_type": "code",
      "source": [
        "#Boolean Data Type\n",
        "is_online = True\n",
        "print(type(is_online))  # Output: <class 'bool'>\n"
      ],
      "metadata": {
        "colab": {
          "base_uri": "https://localhost:8080/"
        },
        "id": "s7kxb5L_-XU5",
        "outputId": "c81db878-69df-4372-d330-6b059b941ac9"
      },
      "execution_count": 21,
      "outputs": [
        {
          "output_type": "stream",
          "name": "stdout",
          "text": [
            "<class 'bool'>\n"
          ]
        }
      ]
    },
    {
      "cell_type": "code",
      "source": [
        "is_age_for_Vote=True\n",
        "print(type(is_age_for_Vote))\n"
      ],
      "metadata": {
        "colab": {
          "base_uri": "https://localhost:8080/"
        },
        "id": "zHgu7V_V-ho8",
        "outputId": "bde5e6d5-95f2-4c62-b78d-e7eeae55abe3"
      },
      "execution_count": 22,
      "outputs": [
        {
          "output_type": "stream",
          "name": "stdout",
          "text": [
            "<class 'bool'>\n"
          ]
        }
      ]
    },
    {
      "cell_type": "markdown",
      "source": [
        "Built in Data Types"
      ],
      "metadata": {
        "id": "X95w93Vn_JKq"
      }
    },
    {
      "cell_type": "markdown",
      "source": [
        "| Data Type | Description                          | Changeable? | Ordered? | Duplicate Items?           |\n",
        "| --------- | ------------------------------------ | ----------- | -------- | -------------------------- |\n",
        "| `list`    | Ordered collection (like a basket)   | ✅ Yes       | ✅ Yes    | ✅ Yes                      |\n",
        "| `tuple`   | Ordered collection (unchangeable)    | ❌ No        | ✅ Yes    | ✅ Yes                      |\n",
        "| `dict`    | Key-value pairs                      | ✅ Yes       | ✅ Yes    | ❌ No (keys must be unique) |\n",
        "| `set`     | Unordered collection of unique items | ✅ Yes       | ❌ No     | ❌ No                       |\n"
      ],
      "metadata": {
        "id": "oZphZRTH_Hy7"
      }
    },
    {
      "cell_type": "code",
      "source": [
        "# ✅ Basic and Built-in Data Types in Python\n",
        "\n",
        "# Integer\n",
        "age = 22\n",
        "print(\"Age:\", age)\n",
        "print(\"Type of age:\", type(age))  # <class 'int'>\n",
        "\n",
        "# Float\n",
        "height = 5.9\n",
        "print(\"\\nHeight:\", height)\n",
        "print(\"Type of height:\", type(height))  # <class 'float'>\n",
        "\n",
        "# String\n",
        "name = \"Ali\"\n",
        "print(\"\\nName:\", name)\n",
        "print(\"Type of name:\", type(name))  # <class 'str'>\n",
        "\n",
        "# Boolean\n",
        "is_student = True\n",
        "print(\"\\nIs Student:\", is_student)\n",
        "print(\"Type of is_student:\", type(is_student))  # <class 'bool'>\n",
        "\n",
        "# List\n",
        "fruits = [\"apple\", \"banana\", \"cherry\"]\n",
        "print(\"\\nFruits:\", fruits)\n",
        "print(\"Type of fruits:\", type(fruits))  # <class 'list'>\n",
        "\n",
        "# Tuple\n",
        "dimensions = (10, 20)\n",
        "print(\"\\nDimensions:\", dimensions)\n",
        "print(\"Type of dimensions:\", type(dimensions))  # <class 'tuple'>\n",
        "\n",
        "# Dictionary\n",
        "person = {\"name\": \"Ali\", \"age\": 22}\n",
        "print(\"\\nPerson:\", person)\n",
        "print(\"Type of person:\", type(person))  # <class 'dict'>\n",
        "\n",
        "# Set\n",
        "unique_numbers = {1, 2, 3}\n",
        "print(\"\\nUnique Numbers:\", unique_numbers)\n",
        "print(\"Type of unique_numbers:\", type(unique_numbers))  # <class 'set'>\n"
      ],
      "metadata": {
        "colab": {
          "base_uri": "https://localhost:8080/"
        },
        "id": "oqdjjWr68WFw",
        "outputId": "e29c4553-2cc1-4727-d489-47d43e07d0ac"
      },
      "execution_count": 24,
      "outputs": [
        {
          "output_type": "stream",
          "name": "stdout",
          "text": [
            "Age: 22\n",
            "Type of age: <class 'int'>\n",
            "\n",
            "Height: 5.9\n",
            "Type of height: <class 'float'>\n",
            "\n",
            "Name: Ali\n",
            "Type of name: <class 'str'>\n",
            "\n",
            "Is Student: True\n",
            "Type of is_student: <class 'bool'>\n",
            "\n",
            "Fruits: ['apple', 'banana', 'cherry']\n",
            "Type of fruits: <class 'list'>\n",
            "\n",
            "Dimensions: (10, 20)\n",
            "Type of dimensions: <class 'tuple'>\n",
            "\n",
            "Person: {'name': 'Ali', 'age': 22}\n",
            "Type of person: <class 'dict'>\n",
            "\n",
            "Unique Numbers: {1, 2, 3}\n",
            "Type of unique_numbers: <class 'set'>\n"
          ]
        }
      ]
    }
  ]
}
