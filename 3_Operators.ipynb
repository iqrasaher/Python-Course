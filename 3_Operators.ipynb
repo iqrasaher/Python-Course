{
  "nbformat": 4,
  "nbformat_minor": 0,
  "metadata": {
    "colab": {
      "provenance": []
    },
    "kernelspec": {
      "name": "python3",
      "display_name": "Python 3"
    },
    "language_info": {
      "name": "python"
    }
  },
  "cells": [
    {
      "cell_type": "markdown",
      "source": [
        "## Operators and its Types\n",
        "Operators are special symbols used to perform operations on variables and values."
      ],
      "metadata": {
        "id": "Z5SkIA0VXGkG"
      }
    },
    {
      "cell_type": "markdown",
      "source": [
        "<h2 style=\"color:#1F618D; text-align:center;\">📘 Python Operators – Theory Table</h2>\n",
        "\n",
        "<table border=\"1\" cellpadding=\"12\" style=\"width:100%; border-collapse: collapse; font-size: 18px;\">\n",
        "  <thead style=\"background-color:#3498DB; color:white;\">\n",
        "    <tr>\n",
        "      <th>🔧 Operator Type</th>\n",
        "      <th>📌 Purpose</th>\n",
        "    </tr>\n",
        "  </thead>\n",
        "  <tbody>\n",
        "    <tr>\n",
        "      <td style=\"background-color:#D6EAF8;\">Arithmetic</td>\n",
        "      <td style=\"background-color:#FCF3CF;\">Used to perform basic mathematical operations like addition, subtraction, multiplication, division, etc.</td>\n",
        "    </tr>\n",
        "    <tr>\n",
        "      <td style=\"background-color:#D6EAF8;\">Assignment</td>\n",
        "      <td style=\"background-color:#FCF3CF;\">Used to assign or update values stored in variables.</td>\n",
        "    </tr>\n",
        "    <tr>\n",
        "      <td style=\"background-color:#D6EAF8;\">Relational (Comparison)</td>\n",
        "      <td style=\"background-color:#FCF3CF;\">Used to compare two values and return a boolean result (True or False).</td>\n",
        "    </tr>\n",
        "    <tr>\n",
        "      <td style=\"background-color:#D6EAF8;\">Logical</td>\n",
        "      <td style=\"background-color:#FCF3CF;\">Used to combine multiple conditions or boolean expressions.</td>\n",
        "    </tr>\n",
        "  </tbody>\n",
        "</table>\n",
        "\n"
      ],
      "metadata": {
        "id": "IbcEKEiOhUVa"
      }
    },
    {
      "cell_type": "markdown",
      "source": [
        "### 1. Arithmetic Operator"
      ],
      "metadata": {
        "id": "zj5xlutrXOaE"
      }
    },
    {
      "cell_type": "markdown",
      "source": [],
      "metadata": {
        "id": "9Zo9spUHiBpV"
      }
    },
    {
      "cell_type": "code",
      "source": [
        "# Arithmetic Operators\n",
        "a = 10\n",
        "b = 3\n",
        "\n",
        "print(\"Addition:\", a + b)        # 13\n",
        "print(\"Subtraction:\", a - b)     # 7\n",
        "print(\"Multiplication:\", a * b)  # 30\n",
        "print(\"Division:\", a / b)        # 3.33\n",
        "print(\"Modulus:\", a % b)         # 1\n",
        "print(\"Floor Division:\", a // b) # 3\n",
        "print(\"Exponent:\", a ** b)       # 1000\n"
      ],
      "metadata": {
        "colab": {
          "base_uri": "https://localhost:8080/"
        },
        "id": "cnCPwnDYXKoR",
        "outputId": "ef4ccba8-18ff-4286-b3a1-641d057f79bd"
      },
      "execution_count": 24,
      "outputs": [
        {
          "output_type": "stream",
          "name": "stdout",
          "text": [
            "Addition: 13\n",
            "Subtraction: 7\n",
            "Multiplication: 30\n",
            "Division: 3.3333333333333335\n",
            "Modulus: 1\n",
            "Floor Division: 3\n",
            "Exponent: 1000\n"
          ]
        }
      ]
    },
    {
      "cell_type": "markdown",
      "source": [
        "## 2. Relational/Comparsion Operators"
      ],
      "metadata": {
        "id": "1ebSdstDZgbS"
      }
    },
    {
      "cell_type": "code",
      "source": [
        "# Relational Operators\n",
        "a = 7\n",
        "b = 5\n",
        "\n",
        "print(\"a == b:\", a == b)   # False\n",
        "print(\"a != b:\", a != b)   # True\n",
        "print(\"a > b:\", a > b)     # True\n",
        "print(\"a < b:\", a < b)     # False\n",
        "print(\"a >= b:\", a >= b)   # True\n",
        "print(\"a <= b:\", a <= b)   # False\n"
      ],
      "metadata": {
        "colab": {
          "base_uri": "https://localhost:8080/"
        },
        "id": "gK6_c3W2ft9m",
        "outputId": "ad7ab89a-c2f3-4427-d80b-ad4a3de5770d"
      },
      "execution_count": 26,
      "outputs": [
        {
          "output_type": "stream",
          "name": "stdout",
          "text": [
            "a == b: False\n",
            "a != b: True\n",
            "a > b: True\n",
            "a < b: False\n",
            "a >= b: True\n",
            "a <= b: False\n"
          ]
        }
      ]
    },
    {
      "cell_type": "markdown",
      "source": [
        "## 3. Assignment Operator"
      ],
      "metadata": {
        "id": "wz3fBL3kaWKI"
      }
    },
    {
      "cell_type": "code",
      "source": [
        "num1=15\n",
        "num = num1+15\n",
        "print(num)\n"
      ],
      "metadata": {
        "colab": {
          "base_uri": "https://localhost:8080/"
        },
        "id": "KEqkIy2AaZ8Z",
        "outputId": "f03daaaf-d64d-44aa-8750-81e3165a40df"
      },
      "execution_count": 14,
      "outputs": [
        {
          "output_type": "stream",
          "name": "stdout",
          "text": [
            "30\n"
          ]
        }
      ]
    },
    {
      "cell_type": "code",
      "source": [
        "# Assignment Operators\n",
        "x = 5\n",
        "print(\"Initial x:\", x)\n",
        "\n",
        "x += 3   # x = x + 3\n",
        "print(\"After x += 3:\", x)\n",
        "\n",
        "x *= 2   # x = x * 2\n",
        "print(\"After x *= 2:\", x)\n",
        "\n",
        "x -= 4   # x = x - 4\n",
        "print(\"After x -= 4:\", x)\n",
        "\n",
        "x /= 2   # x = x / 2\n",
        "print(\"After x /= 2:\", x)\n"
      ],
      "metadata": {
        "colab": {
          "base_uri": "https://localhost:8080/"
        },
        "id": "wKHYF4bJfkfG",
        "outputId": "3765eadd-94dc-4081-eb84-6c4b0d405dc6"
      },
      "execution_count": 25,
      "outputs": [
        {
          "output_type": "stream",
          "name": "stdout",
          "text": [
            "Initial x: 5\n",
            "After x += 3: 8\n",
            "After x *= 2: 16\n",
            "After x -= 4: 12\n",
            "After x /= 2: 6.0\n"
          ]
        }
      ]
    },
    {
      "cell_type": "markdown",
      "source": [
        "### 4.Logical Operators"
      ],
      "metadata": {
        "id": "yCctn_b3cmf7"
      }
    },
    {
      "cell_type": "code",
      "source": [
        "#Not Operator\n",
        "print(not False)\n",
        "print(not True)"
      ],
      "metadata": {
        "colab": {
          "base_uri": "https://localhost:8080/"
        },
        "id": "J2opA0pWcp93",
        "outputId": "5b55f4a8-c6b6-4dba-e3de-a9b65a2d65e2"
      },
      "execution_count": 16,
      "outputs": [
        {
          "output_type": "stream",
          "name": "stdout",
          "text": [
            "True\n",
            "False\n"
          ]
        }
      ]
    },
    {
      "cell_type": "code",
      "source": [
        "a=50\n",
        "b=30\n",
        "print(not(a>b))"
      ],
      "metadata": {
        "colab": {
          "base_uri": "https://localhost:8080/"
        },
        "id": "moh406W5dNSf",
        "outputId": "264b3fcb-7b8e-474a-abfe-4f30bab533e1"
      },
      "execution_count": 17,
      "outputs": [
        {
          "output_type": "stream",
          "name": "stdout",
          "text": [
            "False\n"
          ]
        }
      ]
    },
    {
      "cell_type": "code",
      "source": [
        "#AND operator\n",
        "val1 = True\n",
        "val2 = False\n",
        "print(val1 and val2)\n",
        "print(val2 and val1)\n",
        "print(val2 and val2)\n",
        "print(val1 and val1)\n"
      ],
      "metadata": {
        "colab": {
          "base_uri": "https://localhost:8080/"
        },
        "id": "2h1KOG3KdZen",
        "outputId": "648aaed1-bb4b-4840-f0f8-8661fedc7195"
      },
      "execution_count": 22,
      "outputs": [
        {
          "output_type": "stream",
          "name": "stdout",
          "text": [
            "False\n",
            "False\n",
            "False\n",
            "True\n"
          ]
        }
      ]
    },
    {
      "cell_type": "code",
      "source": [
        "#OR Operator\n",
        "val1 = True\n",
        "val2 = False\n",
        "print(val1 or val2)\n",
        "print(val2 or val1)\n",
        "print(val2 or val2)\n",
        "print(val1 or val1)\n"
      ],
      "metadata": {
        "colab": {
          "base_uri": "https://localhost:8080/"
        },
        "id": "AjVrM_agdnmq",
        "outputId": "42ef21e9-00f0-437c-c365-7a96e18d2464"
      },
      "execution_count": 23,
      "outputs": [
        {
          "output_type": "stream",
          "name": "stdout",
          "text": [
            "True\n",
            "True\n",
            "False\n",
            "True\n"
          ]
        }
      ]
    },
    {
      "cell_type": "code",
      "source": [
        "# Logical Operators\n",
        "x = True\n",
        "y = False\n",
        "\n",
        "print(\"x and y:\", x and y)   # False\n",
        "print(\"x or y:\", x or y)     # True\n",
        "print(\"not x:\", not x)       # False\n",
        "\n",
        "# With conditions\n",
        "a = 10\n",
        "b = 5\n",
        "\n",
        "print(\"(a > 5 and b < 10):\", a > 5 and b < 10)  # True\n",
        "print(\"(a < 5 or b < 10):\", a < 5 or b < 10)    # True\n"
      ],
      "metadata": {
        "colab": {
          "base_uri": "https://localhost:8080/"
        },
        "id": "raJtNh3Wf118",
        "outputId": "7dce8769-ac86-44c0-bf25-f76e6f985850"
      },
      "execution_count": 27,
      "outputs": [
        {
          "output_type": "stream",
          "name": "stdout",
          "text": [
            "x and y: False\n",
            "x or y: True\n",
            "not x: False\n",
            "(a > 5 and b < 10): True\n",
            "(a < 5 or b < 10): True\n"
          ]
        }
      ]
    },
    {
      "cell_type": "markdown",
      "source": [
        "<center>\n",
        "  <h2 style=\"color:#1F618D;\">⚙️ Python Operators</h2>\n",
        "  <table border=\"1\" cellpadding=\"12\" style=\"width:90%; font-size:18px; border-collapse: collapse; text-align: center;\">\n",
        "    <thead style=\"background-color:#D6EAF8;\">\n",
        "      <tr>\n",
        "        <th>🔧 Operator Type</th>\n",
        "        <th>🧪 Operators</th>\n",
        "        <th>💡 Description</th>\n",
        "        <th>🔍 Example</th>\n",
        "      </tr>\n",
        "    </thead>\n",
        "    <tbody>\n",
        "      <tr>\n",
        "        <td style=\"background-color:#FCF3CF;\">Arithmetic</td>\n",
        "        <td>+, -, *, /, %, //, **</td>\n",
        "        <td>Used for mathematical operations</td>\n",
        "        <td>5 + 3 = 8</td>\n",
        "      </tr>\n",
        "      <tr>\n",
        "        <td style=\"background-color:#D5F5E3;\">Assignment</td>\n",
        "        <td>=, +=, -=, *=, /=</td>\n",
        "        <td>Assign values or update them</td>\n",
        "        <td>x += 2  ➝ x = x + 2</td>\n",
        "      </tr>\n",
        "      <tr>\n",
        "        <td style=\"background-color:#FADBD8;\">Relational (Comparison)</td>\n",
        "        <td>==, !=, >, <, >=, <=</td>\n",
        "        <td>Compare two values</td>\n",
        "        <td>5 > 3  ➝ True</td>\n",
        "      </tr>\n",
        "      <tr>\n",
        "        <td style=\"background-color:#E8DAEF;\">Logical</td>\n",
        "        <td>and, or, not</td>\n",
        "        <td>Combine conditions</td>\n",
        "        <td>(x > 5 and y < 10)</td>\n",
        "      </tr>\n",
        "    </tbody>\n",
        "  </table>\n",
        "</center>\n"
      ],
      "metadata": {
        "id": "N54UxVPUfLom"
      }
    },
    {
      "cell_type": "code",
      "source": [],
      "metadata": {
        "id": "jFLOa2BdiXta"
      },
      "execution_count": null,
      "outputs": []
    },
    {
      "cell_type": "markdown",
      "source": [
        "<h2 style=\"color:#1A5276; text-align:center;\">🧮 Python Operators – Complete Working Table</h2>\n",
        "\n",
        "<table border=\"1\" cellpadding=\"10\" style=\"width:100%; font-size:17px; border-collapse:collapse; text-align:center;\">\n",
        "  <tr style=\"background-color:#3498DB; color:white;\">\n",
        "    <th>Operator Type</th>\n",
        "    <th>Operator</th>\n",
        "    <th>Expression</th>\n",
        "    <th>Result</th>\n",
        "  </tr>\n",
        "\n",
        "  <!-- Arithmetic -->\n",
        "  <tr><td rowspan=\"7\" style=\"background-color:#D6EAF8;\">Arithmetic</td><td>+</td><td>5 + 3</td><td>8</td></tr>\n",
        "  <tr><td>-</td><td>9 - 4</td><td>5</td></tr>\n",
        "  <tr><td>*</td><td>6 * 2</td><td>12</td></tr>\n",
        "  <tr><td>/</td><td>8 / 2</td><td>4.0</td></tr>\n",
        "  <tr><td>%</td><td>10 % 3</td><td>1</td></tr>\n",
        "  <tr><td>//</td><td>10 // 3</td><td>3</td></tr>\n",
        "  <tr><td>**</td><td>2 ** 3</td><td>8</td></tr>\n",
        "\n",
        "  <!-- Assignment -->\n",
        "  <tr><td rowspan=\"8\" style=\"background-color:#FCF3CF;\">Assignment</td><td>=</td><td>x = 10</td><td>x becomes 10</td></tr>\n",
        "  <tr><td>+=</td><td>x = 5; x += 3</td><td>x becomes 8</td></tr>\n",
        "  <tr><td>-=</td><td>x = 7; x -= 2</td><td>x becomes 5</td></tr>\n",
        "  <tr><td>*=</td><td>x = 4; x *= 2</td><td>x becomes 8</td></tr>\n",
        "  <tr><td>/=</td><td>x = 8; x /= 4</td><td>x becomes 2.0</td></tr>\n",
        "  <tr><td>//=</td><td>x = 9; x //= 2</td><td>x becomes 4</td></tr>\n",
        "  <tr><td>**=</td><td>x = 3; x **= 2</td><td>x becomes 9</td></tr>\n",
        "  <tr><td>%=</td><td>x = 10; x %= 4</td><td>x becomes 2</td></tr>\n",
        "\n",
        "  <!-- Relational -->\n",
        "  <tr><td rowspan=\"6\" style=\"background-color:#FADBD8;\">Relational</td><td>==</td><td>5 == 5</td><td>True</td></tr>\n",
        "  <tr><td>!=</td><td>5 != 3</td><td>True</td></tr>\n",
        "  <tr><td>></td><td>7 > 2</td><td>True</td></tr>\n",
        "  <tr><td><</td><td>4 < 6</td><td>True</td></tr>\n",
        "  <tr><td>>=</td><td>6 >= 6</td><td>True</td></tr>\n",
        "  <tr><td><=</td><td>3 <= 5</td><td>True</td></tr>\n",
        "\n",
        "  <!-- Logical -->\n",
        "  <tr><td rowspan=\"3\" style=\"background-color:#E8DAEF;\">Logical</td><td>and</td><td>True and False</td><td>False</td></tr>\n",
        "  <tr><td>or</td><td>True or False</td><td>True</td></tr>\n",
        "  <tr><td>not</td><td>not True</td><td>False</td></tr>\n",
        "</table>\n"
      ],
      "metadata": {
        "id": "VQZE5qIpiwJb"
      }
    }
  ]
}