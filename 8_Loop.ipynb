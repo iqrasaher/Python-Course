{
  "nbformat": 4,
  "nbformat_minor": 0,
  "metadata": {
    "colab": {
      "provenance": []
    },
    "kernelspec": {
      "name": "python3",
      "display_name": "Python 3"
    },
    "language_info": {
      "name": "python"
    }
  },
  "cells": [
    {
      "cell_type": "markdown",
      "source": [
        "## Loops in Python\n",
        "Loops are used to repeat instructions."
      ],
      "metadata": {
        "id": "MdlDi5IWZ9pu"
      }
    },
    {
      "cell_type": "markdown",
      "source": [
        "### 1. While Loop\n",
        "A while loop in Python is used to repeat a block of code as long as a specified condition is True.\n",
        "\n",
        "* condition is checked before each loop iteration.\n",
        "\n",
        "* The loop runs until the condition becomes False.\n",
        "\n",
        "* You must update the condition inside the loop (to avoid infinite loop)."
      ],
      "metadata": {
        "id": "jXDE-K3LaiEQ"
      }
    },
    {
      "cell_type": "code",
      "execution_count": 4,
      "metadata": {
        "colab": {
          "base_uri": "https://localhost:8080/"
        },
        "id": "FuSx3gPvZg01",
        "outputId": "3b66106e-6bfc-42d4-8fb4-c967f0e8e684"
      },
      "outputs": [
        {
          "output_type": "stream",
          "name": "stdout",
          "text": [
            "Hello World!\n",
            "Hello World!\n",
            "Hello World!\n",
            "Hello World!\n",
            "Hello World!\n"
          ]
        }
      ],
      "source": [
        "count =1 #variable intiialize\n",
        "while count<= 5: #condition\n",
        "  print(\"Hello World!\")\n",
        "  count += 1"
      ]
    },
    {
      "cell_type": "code",
      "source": [
        "#print numbers from 1 to 10\n",
        "i = 1\n",
        "while i<= 10:\n",
        "  print(i)\n",
        "  i += 1"
      ],
      "metadata": {
        "colab": {
          "base_uri": "https://localhost:8080/"
        },
        "id": "jE49MLFCdBch",
        "outputId": "2264564c-0a8e-487d-a007-960295e717cf"
      },
      "execution_count": 8,
      "outputs": [
        {
          "output_type": "stream",
          "name": "stdout",
          "text": [
            "1\n",
            "2\n",
            "3\n",
            "4\n",
            "5\n",
            "6\n",
            "7\n",
            "8\n",
            "9\n",
            "10\n"
          ]
        }
      ]
    },
    {
      "cell_type": "code",
      "source": [
        "#print number from 10 to 1\n",
        "i = 10\n",
        "while i>= 1:\n",
        "  print(i)\n",
        "  i -= 1\n",
        "\n",
        "print(\"Loop Ended\")"
      ],
      "metadata": {
        "colab": {
          "base_uri": "https://localhost:8080/"
        },
        "id": "OrzcBTz8dWSW",
        "outputId": "f5007875-e0fb-405f-a7c9-4cb4145ca0b3"
      },
      "execution_count": 10,
      "outputs": [
        {
          "output_type": "stream",
          "name": "stdout",
          "text": [
            "10\n",
            "9\n",
            "8\n",
            "7\n",
            "6\n",
            "5\n",
            "4\n",
            "3\n",
            "2\n",
            "1\n",
            "Loop Ended\n"
          ]
        }
      ]
    },
    {
      "cell_type": "code",
      "source": [
        "#Multiplication Table of a number n\n",
        "n =int(input(\"Enter a Number: \"))\n",
        "i=1\n",
        "while i<= 10:\n",
        "  print(f\"{n}*{i}={n*i}\")\n",
        "  i += 1"
      ],
      "metadata": {
        "colab": {
          "base_uri": "https://localhost:8080/"
        },
        "id": "1-8ruvBvdwE6",
        "outputId": "88489892-8641-4bfa-8035-d408db123dba"
      },
      "execution_count": 20,
      "outputs": [
        {
          "output_type": "stream",
          "name": "stdout",
          "text": [
            "Enter a Number: 5\n",
            "5*1=5\n",
            "5*2=10\n",
            "5*3=15\n",
            "5*4=20\n",
            "5*5=25\n",
            "5*6=30\n",
            "5*7=35\n",
            "5*8=40\n",
            "5*9=45\n",
            "5*10=50\n"
          ]
        }
      ]
    },
    {
      "cell_type": "code",
      "source": [
        "#print the elements of the list using loop [1,5,10,15,20,25,30,35,40,45]\n",
        "num = [1,5,10,15,20,25,30,35,40,45]\n",
        "#len(num)\n",
        "i = 0\n",
        "while i<len(num):\n",
        "  print(num[i])\n",
        "  i += 1\n"
      ],
      "metadata": {
        "colab": {
          "base_uri": "https://localhost:8080/"
        },
        "id": "FwMXhH6gge_h",
        "outputId": "0ee8faec-df67-49bf-9a6a-012617b38e29"
      },
      "execution_count": 28,
      "outputs": [
        {
          "output_type": "stream",
          "name": "stdout",
          "text": [
            "1\n",
            "5\n",
            "10\n",
            "15\n",
            "20\n",
            "25\n",
            "30\n",
            "35\n",
            "40\n",
            "45\n"
          ]
        }
      ]
    },
    {
      "cell_type": "code",
      "source": [
        "# Search for a number x  in the tuple using loop (1,5,10,15,20,25,30,35,40,40,45)\n",
        "\n",
        "x =int(input(\"Enter a number x for search : \"))\n",
        "num = (1,5,10,15,20,25,30,35,40,40,45)\n",
        "i =0\n",
        "while i<len(num):\n",
        "  if(num[i]==x):\n",
        "    print(f\"{x} is found at index {i}\")\n",
        "  else:\n",
        "    print(\"Wait! Searching\")\n",
        "  i += 1\n"
      ],
      "metadata": {
        "colab": {
          "base_uri": "https://localhost:8080/"
        },
        "id": "tALH92VikKvJ",
        "outputId": "a2654266-9757-4bef-ef94-99e70a7b4c46"
      },
      "execution_count": 38,
      "outputs": [
        {
          "output_type": "stream",
          "name": "stdout",
          "text": [
            "Enter a number x for search : 40\n",
            "Wait! Searching\n",
            "Wait! Searching\n",
            "Wait! Searching\n",
            "Wait! Searching\n",
            "Wait! Searching\n",
            "Wait! Searching\n",
            "Wait! Searching\n",
            "Wait! Searching\n",
            "40 is found at index 8\n",
            "40 is found at index 9\n",
            "Wait! Searching\n"
          ]
        }
      ]
    },
    {
      "cell_type": "markdown",
      "source": [
        "### <font color=\"Green\"><b>Break and Continue</b></font>\n",
        "<font color=\"blue\"><b>Break:</b></font> used to terminate a loop when encountered.\n",
        "\n",
        "<font color= \"blue\"><b>Continue:</b></font> terminates execution in the current iteration & continues execution of the loop with next iteration\n"
      ],
      "metadata": {
        "id": "GWQvFd0gm90M"
      }
    },
    {
      "cell_type": "code",
      "source": [
        "#break\n",
        "i = 0\n",
        "while(i<=5):\n",
        "  if(i==3):\n",
        "    break\n",
        "  print(i)\n",
        "  i+= 1"
      ],
      "metadata": {
        "colab": {
          "base_uri": "https://localhost:8080/"
        },
        "id": "aMqrAAb_p-4U",
        "outputId": "8a82aee3-d90f-43b8-dc6f-27b1739c9eb5"
      },
      "execution_count": 2,
      "outputs": [
        {
          "output_type": "stream",
          "name": "stdout",
          "text": [
            "0\n",
            "1\n",
            "2\n"
          ]
        }
      ]
    },
    {
      "cell_type": "code",
      "source": [
        "#continue\n",
        "i = 0\n",
        "while(i<=5):\n",
        "  if(i==3):\n",
        "    i += 1\n",
        "    continue\n",
        "  print(i)\n",
        "  i+= 1"
      ],
      "metadata": {
        "colab": {
          "base_uri": "https://localhost:8080/"
        },
        "id": "iFYm6TQxre3d",
        "outputId": "04bb7387-ef8b-4a75-a65a-0a04fe534750"
      },
      "execution_count": 7,
      "outputs": [
        {
          "output_type": "stream",
          "name": "stdout",
          "text": [
            "0\n",
            "1\n",
            "2\n",
            "4\n",
            "5\n"
          ]
        }
      ]
    },
    {
      "cell_type": "code",
      "source": [
        "i=1\n",
        "while(i<=10):\n",
        "  if(i%2!=0):\n",
        "    i+=1\n",
        "    continue\n",
        "  print(i)\n",
        "  i+=1"
      ],
      "metadata": {
        "colab": {
          "base_uri": "https://localhost:8080/"
        },
        "id": "oufn3vVYsDD3",
        "outputId": "c442b086-9f03-4015-c393-bedd6acd9a03"
      },
      "execution_count": 9,
      "outputs": [
        {
          "output_type": "stream",
          "name": "stdout",
          "text": [
            "2\n",
            "4\n",
            "6\n",
            "8\n",
            "10\n"
          ]
        }
      ]
    },
    {
      "cell_type": "markdown",
      "source": [
        "### 2.For Loop\n",
        "For Loop are used for Sequential Traversal.For traversing List,string,tuples,etc.\n",
        "* The loop runs once for each item in the sequence.\n",
        "\n",
        "* The variable takes the value of each item, one at a time."
      ],
      "metadata": {
        "id": "FGTX3Ebpr3h4"
      }
    },
    {
      "cell_type": "code",
      "source": [
        "list =[2,4,6,8,10]\n",
        "for i in list:\n",
        "  print(i)"
      ],
      "metadata": {
        "colab": {
          "base_uri": "https://localhost:8080/"
        },
        "id": "Oj3cZAeir55C",
        "outputId": "c4da5f3f-889d-40de-ba2e-094c70c41626"
      },
      "execution_count": 1,
      "outputs": [
        {
          "output_type": "stream",
          "name": "stdout",
          "text": [
            "2\n",
            "4\n",
            "6\n",
            "8\n",
            "10\n"
          ]
        }
      ]
    },
    {
      "cell_type": "code",
      "source": [
        "fruits =[\"apple\",\"mango\",\"banana\",\"grapes\",\"orange\",\"strawberry\"]\n",
        "for f in fruits:\n",
        "  print(f)"
      ],
      "metadata": {
        "colab": {
          "base_uri": "https://localhost:8080/"
        },
        "id": "EKH9cJT1tijY",
        "outputId": "cb354b29-c85f-48cf-c41f-99c2c9945401"
      },
      "execution_count": 2,
      "outputs": [
        {
          "output_type": "stream",
          "name": "stdout",
          "text": [
            "apple\n",
            "mango\n",
            "banana\n",
            "grapes\n",
            "orange\n",
            "strawberry\n"
          ]
        }
      ]
    },
    {
      "cell_type": "code",
      "source": [
        "tuple = (1,3,5,7,9,11)\n",
        "for n in tuple:\n",
        "  print(n)"
      ],
      "metadata": {
        "colab": {
          "base_uri": "https://localhost:8080/"
        },
        "id": "rU2ZA1WRuP47",
        "outputId": "2b11f228-d041-451c-9a32-85f83fd079a5"
      },
      "execution_count": 3,
      "outputs": [
        {
          "output_type": "stream",
          "name": "stdout",
          "text": [
            "1\n",
            "3\n",
            "5\n",
            "7\n",
            "9\n",
            "11\n"
          ]
        }
      ]
    },
    {
      "cell_type": "code",
      "source": [
        "from ctypes import string_at\n",
        "string =\"python\"\n",
        "for s in string:\n",
        "  print(s)"
      ],
      "metadata": {
        "colab": {
          "base_uri": "https://localhost:8080/"
        },
        "id": "JB7i8Ia7ugMo",
        "outputId": "db6edfef-9b83-431a-a3d2-8cbcee8a1ea0"
      },
      "execution_count": 5,
      "outputs": [
        {
          "output_type": "stream",
          "name": "stdout",
          "text": [
            "p\n",
            "y\n",
            "t\n",
            "h\n",
            "o\n",
            "n\n"
          ]
        }
      ]
    },
    {
      "cell_type": "code",
      "source": [
        "#print the elements of the list using loop [1,5,10,15,20,25,30,35,40,45]\n",
        "num = [1,5,10,15,20,25,30,35,40,45]\n",
        "#len(num)\n",
        "\n",
        "for i in num:\n",
        "  print(i)\n"
      ],
      "metadata": {
        "colab": {
          "base_uri": "https://localhost:8080/"
        },
        "id": "UYWeVUKKuuj3",
        "outputId": "fed32ee1-c008-4eb0-a4f8-6d49703fd668"
      },
      "execution_count": 7,
      "outputs": [
        {
          "output_type": "stream",
          "name": "stdout",
          "text": [
            "1\n",
            "5\n",
            "10\n",
            "15\n",
            "20\n",
            "25\n",
            "30\n",
            "35\n",
            "40\n",
            "45\n"
          ]
        }
      ]
    },
    {
      "cell_type": "code",
      "source": [
        "# Search for a number x  in the tuple using loop (1,5,10,15,20,25,30,35,40,40,45)\n",
        "\n",
        "x =int(input(\"Enter a number x for search : \"))\n",
        "num = (1,5,10,15,20,25,30,35,40,40,45)\n",
        "for i in num:\n",
        "  if(i==x):\n",
        "    print(f\"{x} is found at index {i}\")\n",
        "\n",
        ""
      ],
      "metadata": {
        "colab": {
          "base_uri": "https://localhost:8080/"
        },
        "id": "dUoT4OsbxSXp",
        "outputId": "c1ff6af5-4a0d-4e8b-eebc-fb938cc9ff5b"
      },
      "execution_count": 10,
      "outputs": [
        {
          "output_type": "stream",
          "name": "stdout",
          "text": [
            "Enter a number x for search : 5\n",
            "5 is found at index 5\n"
          ]
        }
      ]
    },
    {
      "cell_type": "markdown",
      "source": [
        "\n",
        "<font color=\"blue\"><b>Range Function</b></font>: returns a sequence of numbers,starting from 0 by default,and increments by 1 (by defualt) and stops before a specified number.\n",
        "\n",
        "<font color=\"gray\"><b>Syntax:</b>range(start?,stop,step?)</font><b> <---?</b> means optional\n"
      ],
      "metadata": {
        "id": "aZ13yHXUx-w6"
      }
    },
    {
      "cell_type": "code",
      "source": [
        "for n in range(5):\n",
        "  print(n)"
      ],
      "metadata": {
        "colab": {
          "base_uri": "https://localhost:8080/"
        },
        "id": "13sqPk9Hyc4C",
        "outputId": "049b545a-9467-4a5c-9a65-37e02efc6ffd"
      },
      "execution_count": 12,
      "outputs": [
        {
          "output_type": "stream",
          "name": "stdout",
          "text": [
            "0\n",
            "1\n",
            "2\n",
            "3\n",
            "4\n"
          ]
        }
      ]
    },
    {
      "cell_type": "code",
      "source": [
        "for n in range(1,10):\n",
        "  print(n)"
      ],
      "metadata": {
        "colab": {
          "base_uri": "https://localhost:8080/"
        },
        "id": "ugy4tD0V0MHG",
        "outputId": "384cd883-0bf7-411a-b40a-f7ff29030b2a"
      },
      "execution_count": 15,
      "outputs": [
        {
          "output_type": "stream",
          "name": "stdout",
          "text": [
            "1\n",
            "2\n",
            "3\n",
            "4\n",
            "5\n",
            "6\n",
            "7\n",
            "8\n",
            "9\n"
          ]
        }
      ]
    },
    {
      "cell_type": "code",
      "source": [
        "for n in range(1,10,2):\n",
        "  print(n)"
      ],
      "metadata": {
        "colab": {
          "base_uri": "https://localhost:8080/"
        },
        "id": "sI5wlvAe0Wru",
        "outputId": "a7b51696-c37d-4b4c-a43b-9c096a911ec5"
      },
      "execution_count": 17,
      "outputs": [
        {
          "output_type": "stream",
          "name": "stdout",
          "text": [
            "1\n",
            "3\n",
            "5\n",
            "7\n",
            "9\n"
          ]
        }
      ]
    },
    {
      "cell_type": "code",
      "source": [
        "#using for and range:print numbers from 1 to 20\n",
        "for i in range(1,21):\n",
        "  print(i)"
      ],
      "metadata": {
        "colab": {
          "base_uri": "https://localhost:8080/"
        },
        "id": "7Cau5ZeH1jjQ",
        "outputId": "cdc573aa-2128-4d40-bc60-1568fdcd1a46"
      },
      "execution_count": 20,
      "outputs": [
        {
          "output_type": "stream",
          "name": "stdout",
          "text": [
            "1\n",
            "2\n",
            "3\n",
            "4\n",
            "5\n",
            "6\n",
            "7\n",
            "8\n",
            "9\n",
            "10\n",
            "11\n",
            "12\n",
            "13\n",
            "14\n",
            "15\n",
            "16\n",
            "17\n",
            "18\n",
            "19\n",
            "20\n"
          ]
        }
      ]
    },
    {
      "cell_type": "code",
      "source": [
        "#using for and range:print numbers from 20 to 1\n",
        "for i in range(20,0,-1):\n",
        "  print(i)"
      ],
      "metadata": {
        "colab": {
          "base_uri": "https://localhost:8080/"
        },
        "id": "W8IvoGSH2Ddr",
        "outputId": "109bb5ea-b5c3-4463-f338-181c8a02595a"
      },
      "execution_count": 24,
      "outputs": [
        {
          "output_type": "stream",
          "name": "stdout",
          "text": [
            "20\n",
            "19\n",
            "18\n",
            "17\n",
            "16\n",
            "15\n",
            "14\n",
            "13\n",
            "12\n",
            "11\n",
            "10\n",
            "9\n",
            "8\n",
            "7\n",
            "6\n",
            "5\n",
            "4\n",
            "3\n",
            "2\n",
            "1\n"
          ]
        }
      ]
    },
    {
      "cell_type": "code",
      "source": [
        "#print a multiplication table of a number n\n",
        "n = int(input(\"Enter a number of table:\"))\n",
        "for i in range(1,11):\n",
        "  print(f\"{n}*{i}={n*i}\")"
      ],
      "metadata": {
        "colab": {
          "base_uri": "https://localhost:8080/"
        },
        "id": "-2ZQ-f6f2R8w",
        "outputId": "898f08e6-9298-4ade-d93f-2fd727152f91"
      },
      "execution_count": 28,
      "outputs": [
        {
          "output_type": "stream",
          "name": "stdout",
          "text": [
            "Enter a number of table:5\n",
            "5*1=5\n",
            "5*2=10\n",
            "5*3=15\n",
            "5*4=20\n",
            "5*5=25\n",
            "5*6=30\n",
            "5*7=35\n",
            "5*8=40\n",
            "5*9=45\n",
            "5*10=50\n"
          ]
        }
      ]
    },
    {
      "cell_type": "markdown",
      "source": [
        "<font color=\"blue\"><b>Pass</b></font>: is a null statement that does nothing.It is used as a placeholder for future code.\n"
      ],
      "metadata": {
        "id": "iHzvQcVe2-Xz"
      }
    },
    {
      "cell_type": "code",
      "source": [
        "#pass\n",
        "for i in range(5):\n",
        "  pass\n",
        "print(\"number\")"
      ],
      "metadata": {
        "colab": {
          "base_uri": "https://localhost:8080/"
        },
        "id": "g1PrOrI-3Nr7",
        "outputId": "51d1e202-84c9-4bb7-f33c-ece1d7fd4c9f"
      },
      "execution_count": 30,
      "outputs": [
        {
          "output_type": "stream",
          "name": "stdout",
          "text": [
            "number\n"
          ]
        }
      ]
    },
    {
      "cell_type": "markdown",
      "source": [
        "<h2 style=\"text-align:center; color:#34495E;\">🔁 Python Loops: <span style=\"color:#5DADE2;\">while</span> vs <span style=\"color:#58D68D;\">for</span></h2>\n",
        "\n",
        "<center>\n",
        "<table border=\"1\" cellpadding=\"10\" style=\"font-size:16px; border-collapse:collapse;\">\n",
        "  <tr style=\"background-color:#D6DBDF;\">\n",
        "    <th>🧠 Feature</th>\n",
        "    <th style=\"background-color:#EBF5FB;\">🔵 while Loop</th>\n",
        "    <th style=\"background-color:#E8F8F5;\">🟢 for Loop</th>\n",
        "  </tr>\n",
        "\n",
        "  <tr>\n",
        "    <td><b>Purpose</b></td>\n",
        "    <td>Runs as long as the condition is <code>True</code></td>\n",
        "    <td>Iterates over a sequence (list, range, etc.)</td>\n",
        "  </tr>\n",
        "\n",
        "  <tr style=\"background-color:#F9F9F9;\">\n",
        "    <td><b>Condition</b></td>\n",
        "    <td>Checked before each iteration</td>\n",
        "    <td>Handled automatically by Python</td>\n",
        "  </tr>\n",
        "\n",
        "  <tr>\n",
        "    <td><b>Syntax</b></td>\n",
        "    <td><code>while condition:<br>&nbsp;&nbsp;&nbsp;&nbsp;code</code></td>\n",
        "    <td><code>for item in sequence:<br>&nbsp;&nbsp;&nbsp;&nbsp;code</code></td>\n",
        "  </tr>\n",
        "\n",
        "  <tr style=\"background-color:#F9F9F9;\">\n",
        "    <td><b>Control</b></td>\n",
        "    <td>Must manually update loop variable</td>\n",
        "    <td>Updates automatically</td>\n",
        "  </tr>\n",
        "\n",
        "  <tr>\n",
        "    <td><b>Example</b></td>\n",
        "    <td style=\"background-color:#FCF3CF;\">\n",
        "<pre style=\"margin:0;\">i = 1\n",
        "while i <= 5:\n",
        "    print(i)\n",
        "    i += 1</pre></td>\n",
        "    <td style=\"background-color:#D5F5E3;\">\n",
        "<pre style=\"margin:0;\">for i in range(1, 6):\n",
        "    print(i)</pre></td>\n",
        "  </tr>\n",
        "\n",
        "  <tr style=\"background-color:#F9F9F9;\">\n",
        "    <td><b>Supports</b></td>\n",
        "    <td><font color=\"red\"><b>break</b></font>, <font color=\"green\"><b>continue</b></font></td>\n",
        "    <td><font color=\"red\"><b>break</b></font>, <font color=\"green\"><b>continue</b></font></td>\n",
        "  </tr>\n",
        "</table>\n",
        "</center>\n"
      ],
      "metadata": {
        "id": "g2681TYX77Gt"
      }
    },
    {
      "cell_type": "markdown",
      "source": [
        "<h2 style=\"text-align:center; color:#5D6D7E;\">🔄 Python Loop Control: <i>break</i> vs <i>continue</i></h2>\n",
        "\n",
        "<center>\n",
        "<table border=\"1\" cellpadding=\"10\" style=\"font-size:16px; border-collapse:collapse; width:90%; background-color:#FAFAFA;\">\n",
        "  <tr style=\"background-color:#D6DBDF;\">\n",
        "    <th>🔸 Feature</th>\n",
        "    <th style=\"background-color:#FDEDEC;\"><code>break</code></th>\n",
        "    <th style=\"background-color:#EBF5FB;\"><code>continue</code></th>\n",
        "  </tr>\n",
        "\n",
        "  <tr>\n",
        "    <td><b>Definition</b></td>\n",
        "    <td>Stops the loop entirely when the condition is met</td>\n",
        "    <td>Skips the current iteration and continues with the next</td>\n",
        "  </tr>\n",
        "\n",
        "  <tr style=\"background-color:#F9F9F9;\">\n",
        "    <td><b>Loop Behavior</b></td>\n",
        "    <td>Exits the loop immediately</td>\n",
        "    <td>Goes back to the start of the loop</td>\n",
        "  </tr>\n",
        "\n",
        "  <tr>\n",
        "    <td><b>When to Use</b></td>\n",
        "    <td>When you want to stop the loop early</td>\n",
        "    <td>When you want to skip specific values</td>\n",
        "  </tr>\n",
        "\n",
        "  <tr style=\"background-color:#F9F9F9;\">\n",
        "    <td><b>Example</b></td>\n",
        "    <td style=\"background-color:#FEF9E7;\">\n",
        "<pre style=\"margin:0; font-size:14px;\">for i in range(1, 6):\n",
        "    if i == 4:\n",
        "        break\n",
        "    print(i)</pre></td>\n",
        "    <td style=\"background-color:#EAF2F8;\">\n",
        "<pre style=\"margin:0; font-size:14px;\">for i in range(1, 6):\n",
        "    if i == 4:\n",
        "        continue\n",
        "    print(i)</pre></td>\n",
        "  </tr>\n",
        "\n",
        "  <tr>\n",
        "    <td><b>Output</b></td>\n",
        "    <td><code>1<br>2<br>3</code></td>\n",
        "    <td><code>1<br>2<br>3<br>5</code></td>\n",
        "  </tr>\n",
        "</table>\n",
        "</center>\n"
      ],
      "metadata": {
        "id": "n-GfCGmJ79HY"
      }
    },
    {
      "cell_type": "markdown",
      "source": [
        "<!-- Author: Iqra | Do not reuse without permission -->\n"
      ],
      "metadata": {
        "id": "2KDMV31g9RQ2"
      }
    },
    {
      "cell_type": "markdown",
      "source": [
        "<p style=\"text-align:right; font-size:14px; color:gray;\">\n",
        "Created by Iqra Saher | Python Course 2025\n",
        "</p>\n"
      ],
      "metadata": {
        "id": "NNnks_Px9SYC"
      }
    }
  ]
}